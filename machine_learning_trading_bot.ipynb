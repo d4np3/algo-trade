{
 "cells": [
  {
   "attachments": {},
   "cell_type": "markdown",
   "metadata": {},
   "source": [
    "# Machine Learning Trading Bot\n",
    "\n",
    "In this Challenge, you’ll assume the role of a financial advisor at one of the top five financial advisory firms in the world. Your firm constantly competes with the other major firms to manage and automatically trade assets in a highly dynamic environment. In recent years, your firm has heavily profited by using computer algorithms that can buy and sell faster than human traders.\n",
    "\n",
    "The speed of these transactions gave your firm a competitive advantage early on. But, people still need to specifically program these systems, which limits their ability to adapt to new data. You’re thus planning to improve the existing algorithmic trading systems and maintain the firm’s competitive advantage in the market. To do so, you’ll enhance the existing trading signals with machine learning algorithms that can adapt to new data.\n",
    "\n",
    "## Instructions:\n",
    "\n",
    "Use the starter code file to complete the steps that the instructions outline. The steps for this Challenge are divided into the following sections:\n",
    "\n",
    "* Establish a Baseline Performance\n",
    "\n",
    "* Tune the Baseline Trading Algorithm\n",
    "\n",
    "* Evaluate a New Machine Learning Classifier\n",
    "\n",
    "* Create an Evaluation Report\n",
    "\n",
    "#### Establish a Baseline Performance\n",
    "\n",
    "In this section, you’ll run the provided starter code to establish a baseline performance for the trading algorithm. To do so, complete the following steps.\n",
    "\n",
    "Open the Jupyter notebook. Restart the kernel, run the provided cells that correspond with the first three steps, and then proceed to step four. \n",
    "\n",
    "1. Import the OHLCV dataset into a Pandas DataFrame.\n",
    "\n",
    "2. Generate trading signals using short- and long-window SMA values. \n",
    "\n",
    "3. Split the data into training and testing datasets.\n",
    "\n",
    "4. Use the `SVC` classifier model from SKLearn's support vector machine (SVM) learning method to fit the training data and make predictions based on the testing data. Review the predictions.\n",
    "\n",
    "5. Review the classification report associated with the `SVC` model predictions. \n",
    "\n",
    "6. Create a predictions DataFrame that contains columns for “Predicted” values, “Actual Returns”, and “Strategy Returns”.\n",
    "\n",
    "7. Create a cumulative return plot that shows the actual returns vs. the strategy returns. Save a PNG image of this plot. This will serve as a baseline against which to compare the effects of tuning the trading algorithm.\n",
    "\n",
    "8. Write your conclusions about the performance of the baseline trading algorithm in the `README.md` file that’s associated with your GitHub repository. Support your findings by using the PNG image that you saved in the previous step.\n",
    "\n",
    "#### Tune the Baseline Trading Algorithm\n",
    "\n",
    "In this section, you’ll tune, or adjust, the model’s input features to find the parameters that result in the best trading outcomes. (You’ll choose the best by comparing the cumulative products of the strategy returns.) To do so, complete the following steps:\n",
    "\n",
    "1. Tune the training algorithm by adjusting the size of the training dataset. To do so, slice your data into different periods. Rerun the notebook with the updated parameters, and record the results in your `README.md` file. Answer the following question: What impact resulted from increasing or decreasing the training window?\n",
    "\n",
    "> **Hint** To adjust the size of the training dataset, you can use a different `DateOffset` value&mdash;for example, six months. Be aware that changing the size of the training dataset also affects the size of the testing dataset.\n",
    "\n",
    "2. Tune the trading algorithm by adjusting the SMA input features. Adjust one or both of the windows for the algorithm. Rerun the notebook with the updated parameters, and record the results in your `README.md` file. Answer the following question: What impact resulted from increasing or decreasing either or both of the SMA windows?\n",
    "\n",
    "3. Choose the set of parameters that best improved the trading algorithm returns. Save a PNG image of the cumulative product of the actual returns vs. the strategy returns, and document your conclusion in your `README.md` file.\n",
    "\n",
    "#### Evaluate a New Machine Learning Classifier\n",
    "\n",
    "In this section, you’ll use the original parameters that the starter code provided. But, you’ll apply them to the performance of a second machine learning model. To do so, complete the following steps:\n",
    "\n",
    "1. Import a new classifier, such as `AdaBoost`, `DecisionlogClassifier`, or `LogisticRegression`. (For the full list of classifiers, refer to the [Supervised learning page](https://scikit-learn.org/stable/supervised_learning.html) in the scikit-learn documentation.)\n",
    "\n",
    "2. Using the original training data as the baseline model, fit another model with the new classifier.\n",
    "\n",
    "3. Backtest the new model to evaluate its performance. Save a PNG image of the cumulative product of the actual returns vs. the strategy returns for this updated trading algorithm, and write your conclusions in your `README.md` file. Answer the following questions: Did this new model perform better or worse than the provided baseline model? Did this new model perform better or worse than your tuned trading algorithm?\n",
    "\n",
    "#### Create an Evaluation Report\n",
    "\n",
    "In the previous sections, you updated your `README.md` file with your conclusions. To accomplish this section, you need to add a summary evaluation report at the end of the `README.md` file. For this report, express your final conclusions and analysis. Support your findings by using the PNG images that you created.\n"
   ]
  },
  {
   "cell_type": "code",
   "execution_count": null,
   "metadata": {},
   "outputs": [],
   "source": [
    "# Imports\n",
    "import pandas as pd\n",
    "from pandas.tseries.offsets import DateOffset\n",
    "import numpy as np\n",
    "from pathlib import Path\n",
    "import hvplot.pandas\n",
    "import matplotlib.pyplot as plt\n",
    "from sklearn import svm, tree\n",
    "from sklearn.tree import plot_tree\n",
    "from sklearn.preprocessing import StandardScaler\n",
    "from sklearn.linear_model import LogisticRegression\n",
    "from sklearn.metrics import classification_report, confusion_matrix, accuracy_score\n",
    "print('Loaded Libraries!')"
   ]
  },
  {
   "attachments": {},
   "cell_type": "markdown",
   "metadata": {},
   "source": [
    "---\n",
    "\n",
    "## Establish a Baseline Performance\n",
    "\n",
    "In this section, you’ll run the provided starter code to establish a baseline performance for the trading algorithm. To do so, complete the following steps.\n",
    "\n",
    "Open the Jupyter notebook. Restart the kernel, run the provided cells that correspond with the first three steps, and then proceed to step four. \n"
   ]
  },
  {
   "attachments": {},
   "cell_type": "markdown",
   "metadata": {},
   "source": [
    "### Step 1: Import the OHLCV dataset into a Pandas DataFrame."
   ]
  },
  {
   "cell_type": "code",
   "execution_count": null,
   "metadata": {},
   "outputs": [],
   "source": [
    "# Import the OHLCV dataset into a Pandas Dataframe\n",
    "ohlcv_df = pd.read_csv(\n",
    "    Path(\"./Resources/emerging_markets_ohlcv.csv\"), \n",
    "    index_col='date', \n",
    "    infer_datetime_format=True, \n",
    "    parse_dates=True\n",
    ")\n",
    "\n",
    "# Review the DataFrame\n",
    "ohlcv_df.head()"
   ]
  },
  {
   "cell_type": "code",
   "execution_count": null,
   "metadata": {},
   "outputs": [],
   "source": [
    "# Filter the date index and close columns\n",
    "signals_df = ohlcv_df.loc[:, [\"close\"]]\n",
    "\n",
    "# Use the pct_change function to generate returns from close prices\n",
    "signals_df[\"Actual Returns\"] = signals_df[\"close\"].pct_change()\n",
    "\n",
    "# Drop all NaN values from the DataFrame\n",
    "signals_df = signals_df.dropna()\n",
    "\n",
    "# Review the DataFrame\n",
    "display(signals_df.head())\n",
    "display(signals_df.tail())"
   ]
  },
  {
   "attachments": {},
   "cell_type": "markdown",
   "metadata": {},
   "source": [
    "## Step 2: Generate trading signals using short- and long-window SMA values. "
   ]
  },
  {
   "cell_type": "code",
   "execution_count": null,
   "metadata": {},
   "outputs": [],
   "source": [
    "# Set the short window and long window\n",
    "short_window = 4\n",
    "long_window = 100\n",
    "\n",
    "# Generate the fast and slow simple moving averages (4 and 100 days, respectively)\n",
    "signals_df['SMA_Fast'] = signals_df['close'].rolling(window=short_window).mean()\n",
    "signals_df['SMA_Slow'] = signals_df['close'].rolling(window=long_window).mean()\n",
    "\n",
    "signals_df = signals_df.dropna()\n",
    "\n",
    "# Review the DataFrame\n",
    "display(signals_df.head())\n",
    "display(signals_df.tail())"
   ]
  },
  {
   "cell_type": "code",
   "execution_count": null,
   "metadata": {},
   "outputs": [],
   "source": [
    "# Initialize the new Signal column\n",
    "signals_df['Signal'] = 0.0\n",
    "\n",
    "# When Actual Returns are greater than or equal to 0, generate signal to buy stock long\n",
    "signals_df.loc[(signals_df['Actual Returns'] >= 0), 'Signal'] = 1\n",
    "\n",
    "# When Actual Returns are less than 0, generate signal to sell stock short\n",
    "signals_df.loc[(signals_df['Actual Returns'] < 0), 'Signal'] = -1\n",
    "\n",
    "# Review the DataFrame\n",
    "display(signals_df.head())\n",
    "display(signals_df.tail())"
   ]
  },
  {
   "cell_type": "code",
   "execution_count": null,
   "metadata": {},
   "outputs": [],
   "source": [
    "signals_df['Signal'].value_counts()"
   ]
  },
  {
   "cell_type": "code",
   "execution_count": null,
   "metadata": {},
   "outputs": [],
   "source": [
    "# Calculate the strategy returns and add them to the signals_df DataFrame\n",
    "signals_df['Strategy Returns'] = signals_df['Actual Returns'] * signals_df['Signal'].shift()\n",
    "\n",
    "# Review the DataFrame\n",
    "display(signals_df.head())\n",
    "display(signals_df.tail())"
   ]
  },
  {
   "cell_type": "code",
   "execution_count": null,
   "metadata": {},
   "outputs": [],
   "source": [
    "# Plot Strategy Returns to examine performance\n",
    "(1 + signals_df['Strategy Returns']).cumprod().plot()"
   ]
  },
  {
   "attachments": {},
   "cell_type": "markdown",
   "metadata": {},
   "source": [
    "### Step 3: Split the data into training and testing datasets."
   ]
  },
  {
   "cell_type": "code",
   "execution_count": null,
   "metadata": {},
   "outputs": [],
   "source": [
    "# Assign a copy of the sma_fast and sma_slow columns to a features DataFrame called X\n",
    "X = signals_df[['SMA_Fast', 'SMA_Slow']].shift().dropna().copy()\n",
    "\n",
    "# Review the DataFrame\n",
    "display(X.head())\n",
    "display(X.tail())"
   ]
  },
  {
   "cell_type": "code",
   "execution_count": null,
   "metadata": {},
   "outputs": [],
   "source": [
    "# Create the target set selecting the Signal column and assiging it to y\n",
    "y = signals_df['Signal']\n",
    "\n",
    "# Review the value counts\n",
    "y.value_counts()"
   ]
  },
  {
   "cell_type": "code",
   "execution_count": null,
   "metadata": {},
   "outputs": [],
   "source": [
    "# Select the start of the training period\n",
    "training_begin = X.index.min()\n",
    "\n",
    "# Display the training begin date\n",
    "print(training_begin)"
   ]
  },
  {
   "cell_type": "code",
   "execution_count": null,
   "metadata": {},
   "outputs": [],
   "source": [
    "# Select the ending period for the training data with an offset of 3 months\n",
    "training_end = X.index.min() + DateOffset(months=3)\n",
    "\n",
    "# Display the training end date\n",
    "print(training_end)"
   ]
  },
  {
   "cell_type": "code",
   "execution_count": null,
   "metadata": {},
   "outputs": [],
   "source": [
    "# Generate the X_train and y_train DataFrames\n",
    "X_train = X.loc[training_begin:training_end]\n",
    "y_train = y.loc[training_begin:training_end]\n",
    "\n",
    "# Review the X_train DataFrame\n",
    "X_train.head()\n"
   ]
  },
  {
   "cell_type": "code",
   "execution_count": null,
   "metadata": {},
   "outputs": [],
   "source": [
    "# Generate the X_test and y_test DataFrames\n",
    "X_test = X.loc[training_end+DateOffset(hours=1):]\n",
    "y_test = y.loc[training_end+DateOffset(hours=1):]\n",
    "\n",
    "# Review the X_test DataFrame\n",
    "X_test.tail()"
   ]
  },
  {
   "cell_type": "code",
   "execution_count": null,
   "metadata": {},
   "outputs": [],
   "source": [
    "# Scale the features DataFrames\n",
    "# Create a StandardScaler instance\n",
    "scaler = StandardScaler()\n",
    "\n",
    "# Apply the scaler model to fit the X-train data\n",
    "X_scaler = scaler.fit(X_train)\n",
    "\n",
    "# Transform the X_train and X_test DataFrames using the X_scaler\n",
    "X_train_scaled = X_scaler.transform(X_train)\n",
    "X_test_scaled = X_scaler.transform(X_test)"
   ]
  },
  {
   "attachments": {},
   "cell_type": "markdown",
   "metadata": {},
   "source": [
    "### Step 4: Use the `SVC` classifier model from SKLearn's support vector machine (SVM) learning method to fit the training data and make predictions based on the testing data. Review the predictions."
   ]
  },
  {
   "cell_type": "code",
   "execution_count": null,
   "metadata": {},
   "outputs": [],
   "source": [
    "# From SVM, instantiate SVC classifier model instance\n",
    "svm_model = svm.SVC()\n",
    " \n",
    "# Fit the model to the data using the training data\n",
    "svm_model = svm_model.fit(X_train_scaled, y_train)\n",
    " \n",
    "# Use the testing data to make the model predictions\n",
    "svm_pred = svm_model.predict(X_test_scaled)\n",
    "\n",
    "# Review the model's predicted values\n",
    "svm_pred[:5]\n"
   ]
  },
  {
   "attachments": {},
   "cell_type": "markdown",
   "metadata": {},
   "source": [
    "### Step 5: Review the classification report associated with the `SVC` model predictions. "
   ]
  },
  {
   "cell_type": "code",
   "execution_count": null,
   "metadata": {},
   "outputs": [],
   "source": [
    "# Use a classification report to evaluate the model using the predictions and testing data\n",
    "svm_testing_report = classification_report(y_test, svm_pred)\n",
    "\n",
    "# Print the classification report\n",
    "print(svm_testing_report)\n"
   ]
  },
  {
   "attachments": {},
   "cell_type": "markdown",
   "metadata": {},
   "source": [
    "### Step 6: Create a predictions DataFrame that contains columns for “Predicted” values, “Actual Returns”, and “Strategy Returns”."
   ]
  },
  {
   "cell_type": "code",
   "execution_count": null,
   "metadata": {},
   "outputs": [],
   "source": [
    "# Create a predictions DataFrame\n",
    "predictions_df = pd.DataFrame(index=X_test.index)\n",
    "\n",
    "# Add the SVM model predictions to the DataFrame\n",
    "predictions_df['Predicted'] = svm_pred\n",
    "\n",
    "# Add the actual returns to the DataFrame\n",
    "predictions_df['Actual Returns'] = signals_df['Actual Returns']\n",
    "\n",
    "# Add the strategy returns to the DataFrame\n",
    "predictions_df['Strategy Returns'] = (predictions_df['Actual Returns'] * predictions_df['Predicted'])\n",
    "\n",
    "# Review the DataFrame\n",
    "display(predictions_df.head())\n",
    "display(predictions_df.tail())"
   ]
  },
  {
   "attachments": {},
   "cell_type": "markdown",
   "metadata": {},
   "source": [
    "### Step 7: Create a cumulative return plot that shows the actual returns vs. the strategy returns. Save a PNG image of this plot. This will serve as a baseline against which to compare the effects of tuning the trading algorithm."
   ]
  },
  {
   "cell_type": "code",
   "execution_count": null,
   "metadata": {},
   "outputs": [],
   "source": [
    "# Plot the actual returns versus the strategy returns\n",
    "(1 + predictions_df[['Actual Returns', 'Strategy Returns']]).cumprod().plot()\n",
    "plt.savefig('./img/svc_plot.png', bbox_inches='tight')"
   ]
  },
  {
   "attachments": {},
   "cell_type": "markdown",
   "metadata": {},
   "source": [
    "---\n",
    "\n",
    "## Tune the Baseline Trading Algorithm"
   ]
  },
  {
   "attachments": {},
   "cell_type": "markdown",
   "metadata": {},
   "source": [
    "In this section, you’ll tune, or adjust, the model’s input features to find the parameters that result in the best trading outcomes. You’ll choose the best by comparing the cumulative products of the strategy returns."
   ]
  },
  {
   "attachments": {},
   "cell_type": "markdown",
   "metadata": {},
   "source": [
    "### Step 1: Tune the training algorithm by adjusting the size of the training dataset. \n",
    "\n",
    "To do so, slice your data into different periods. Rerun the notebook with the updated parameters, and record the results in your `README.md` file. \n",
    "\n",
    "Answer the following question: What impact resulted from increasing or decreasing the training window?"
   ]
  },
  {
   "attachments": {},
   "cell_type": "markdown",
   "metadata": {},
   "source": [
    "### Step 2: Tune the trading algorithm by adjusting the SMA input features. \n",
    "\n",
    "Adjust one or both of the windows for the algorithm. Rerun the notebook with the updated parameters, and record the results in your `README.md` file. \n",
    "\n",
    "Answer the following question: What impact resulted from increasing or decreasing either or both of the SMA windows?"
   ]
  },
  {
   "attachments": {},
   "cell_type": "markdown",
   "metadata": {},
   "source": [
    "### Step 3: Choose the set of parameters that best improved the trading algorithm returns. \n",
    "\n",
    "Save a PNG image of the cumulative product of the actual returns vs. the strategy returns, and document your conclusion in your `README.md` file."
   ]
  },
  {
   "cell_type": "code",
   "execution_count": null,
   "metadata": {},
   "outputs": [],
   "source": [
    "## TUNE STEP 1 ##\n",
    "\n",
    "# Select the start of the training period\n",
    "tuned_begin = X.index.min()\n",
    "\n",
    "# Select the ending period for the training data with an offset of 6 months\n",
    "tuned_end = X.index.min() + DateOffset(months=6)\n",
    "\n",
    "# Generate the X_train and y_train DataFrames\n",
    "X_ttrain = X.loc[tuned_begin:tuned_end]\n",
    "y_ttrain = y.loc[tuned_begin:tuned_end]\n",
    "\n",
    "# Generate the X_test and y_test DataFrames\n",
    "X_ttest = X.loc[tuned_end+DateOffset(hours=1):]\n",
    "y_ttest = y.loc[tuned_end+DateOffset(hours=1):]\n",
    "\n",
    "# Create a StandardScaler instance\n",
    "tscaler = StandardScaler()\n",
    "\n",
    "# Apply the scaler model to fit the X-train data\n",
    "X_tscaler = tscaler.fit(X_ttrain)\n",
    "\n",
    "# Transform the X_train and X_test DataFrames using the X_scaler\n",
    "X_ttrain_scaled = X_tscaler.transform(X_ttrain)\n",
    "X_ttest_scaled = X_tscaler.transform(X_ttest)\n",
    "\n",
    "# From SVM, instantiate SVC classifier model instance\n",
    "tsvm_model = svm.SVC()\n",
    " \n",
    "# Fit the model to the data using the training data\n",
    "tsvm_model = tsvm_model.fit(X_ttrain_scaled, y_ttrain)\n",
    " \n",
    "# Use the testing data to make the model predictions\n",
    "tsvm_pred = tsvm_model.predict(X_ttest_scaled)\n",
    "\n",
    "# Use a classification report to evaluate the model using the predictions and testing data\n",
    "tsvm_testing_report = classification_report(y_ttest, tsvm_pred)\n",
    "\n",
    "# Print the classification report\n",
    "print(tsvm_testing_report)"
   ]
  },
  {
   "cell_type": "code",
   "execution_count": null,
   "metadata": {},
   "outputs": [],
   "source": [
    "# Create a predictions DataFrame\n",
    "tuned_pred_df = pd.DataFrame(index=X_ttest.index)\n",
    "\n",
    "# Add the SVM model predictions to the DataFrame\n",
    "tuned_pred_df['Predicted'] = tsvm_pred\n",
    "\n",
    "# Add the actual returns to the DataFrame\n",
    "tuned_pred_df['Actual Returns'] = signals_df['Actual Returns']\n",
    "\n",
    "# Add the strategy returns to the DataFrame\n",
    "tuned_pred_df['Strategy Returns'] = (tuned_pred_df['Actual Returns'] * tuned_pred_df['Predicted'])\n",
    "\n",
    "# Plot the actual returns versus the strategy returns\n",
    "(1 + tuned_pred_df[['Actual Returns', 'Strategy Returns']]).cumprod().plot()\n",
    "plt.savefig('./img/svc_plot2.png', bbox_inches='tight')"
   ]
  },
  {
   "cell_type": "code",
   "execution_count": null,
   "metadata": {},
   "outputs": [],
   "source": [
    "## TUNE STEP 2 ##\n",
    "\n",
    "# Copy original data frame\n",
    "tuned_sig_df = signals_df.copy()\n",
    "\n",
    "# Tuned windows\n",
    "tuned_swin = 1\n",
    "tuned_lwin = 25\n",
    "\n",
    "# Tuned fast and slow simple moving averages\n",
    "tuned_sig_df['SMA_Fast'] = tuned_sig_df['close'].rolling(window=tuned_swin).mean()\n",
    "tuned_sig_df['SMA_Slow'] = tuned_sig_df['close'].rolling(window=tuned_lwin).mean()\n",
    "\n",
    "tuned_sig_df = tuned_sig_df.dropna()\n",
    "\n",
    "X2 = tuned_sig_df[['SMA_Fast', 'SMA_Slow']].shift().dropna().copy()\n",
    "y2 = tuned_sig_df['Signal']\n",
    "\n",
    "# Select the start of the training period\n",
    "tuned_begin = X2.index.min()\n",
    "\n",
    "# Select the ending period for the training data with an offset of 6 months\n",
    "tuned_end = X2.index.min() + DateOffset(months=6)\n",
    "\n",
    "# Generate the X_train and y_train DataFrames\n",
    "X2_train = X2.loc[tuned_begin:tuned_end]\n",
    "y2_train = y2.loc[tuned_begin:tuned_end]\n",
    "\n",
    "# Generate the X_test and y_test DataFrames\n",
    "X2_test = X2.loc[tuned_end+DateOffset(hours=1):]\n",
    "y2_test = y2.loc[tuned_end+DateOffset(hours=1):]\n",
    "\n",
    "# Create a StandardScaler instance\n",
    "scaler2 = StandardScaler()\n",
    "\n",
    "# Apply the scaler model to fit the X-train data\n",
    "X2_scaler = scaler2.fit(X2_train)\n",
    "\n",
    "# Transform the X_train and X_test DataFrames using the X_scaler\n",
    "X2_train_scaled = X2_scaler.transform(X2_train)\n",
    "X2_test_scaled = X2_scaler.transform(X2_test)\n",
    "\n",
    "# From SVM, instantiate SVC classifier model instance\n",
    "svm_model2 = svm.SVC()\n",
    " \n",
    "# Fit the model to the data using the training data\n",
    "svm_model2 = svm_model2.fit(X2_train_scaled, y2_train)\n",
    " \n",
    "# Use the testing data to make the model predictions\n",
    "svm_pred2 = svm_model2.predict(X2_test_scaled)\n",
    "\n",
    "# Use a classification report to evaluate the model using the predictions and testing data\n",
    "svm_testing_report2 = classification_report(y2_test, svm_pred2)\n",
    "\n",
    "# Print the classification report\n",
    "print(svm_testing_report2)"
   ]
  },
  {
   "cell_type": "code",
   "execution_count": null,
   "metadata": {},
   "outputs": [],
   "source": [
    "# Create a predictions DataFrame\n",
    "tuned_pred_df2 = pd.DataFrame(index=X2_test.index)\n",
    "\n",
    "# Add the SVM model predictions to the DataFrame\n",
    "tuned_pred_df2['Predicted'] = svm_pred2\n",
    "\n",
    "# Add the actual returns to the DataFrame\n",
    "tuned_pred_df2['Actual Returns'] = tuned_sig_df['Actual Returns']\n",
    "\n",
    "# Add the strategy returns to the DataFrame\n",
    "tuned_pred_df2['Strategy Returns'] = (tuned_pred_df2['Actual Returns'] * tuned_pred_df2['Predicted'])\n",
    "\n",
    "# Plot the actual returns versus the strategy returns\n",
    "(1 + tuned_pred_df2[['Actual Returns', 'Strategy Returns']]).cumprod().plot()\n",
    "plt.savefig('./img/svc_plot3.png', bbox_inches='tight')"
   ]
  },
  {
   "attachments": {},
   "cell_type": "markdown",
   "metadata": {},
   "source": [
    "---\n",
    "\n",
    "## Evaluate a New Machine Learning Classifier\n",
    "\n",
    "In this section, you’ll use the original parameters that the starter code provided. But, you’ll apply them to the performance of a second machine learning model. "
   ]
  },
  {
   "attachments": {},
   "cell_type": "markdown",
   "metadata": {},
   "source": [
    "### Step 1:  Import a new classifier, such as `AdaBoost`, `DecisionTreeClassifier`, or `LogisticRegression`. (For the full list of classifiers, refer to the [Supervised learning page](https://scikit-learn.org/stable/supervised_learning.html) in the scikit-learn documentation.)"
   ]
  },
  {
   "cell_type": "code",
   "execution_count": null,
   "metadata": {},
   "outputs": [],
   "source": [
    "# Initiate the model instance\n",
    "tree_model = tree.DecisionTreeClassifier()"
   ]
  },
  {
   "attachments": {},
   "cell_type": "markdown",
   "metadata": {},
   "source": [
    "### Step 2: Using the original training data as the baseline model, fit another model with the new classifier."
   ]
  },
  {
   "cell_type": "code",
   "execution_count": null,
   "metadata": {},
   "outputs": [],
   "source": [
    "# Fit the model using the training data\n",
    "tree_model = tree_model.fit(X_train_scaled, y_train)\n",
    "\n",
    "# Use the testing dataset to generate the predictions for the new model\n",
    "tree_pred = tree_model.predict(X_test_scaled)\n",
    "\n",
    "# Review the model's predicted values\n",
    "tree_pred[:5]"
   ]
  },
  {
   "attachments": {},
   "cell_type": "markdown",
   "metadata": {},
   "source": [
    "### Step 3: Backtest the new model to evaluate its performance. \n",
    "\n",
    "Save a PNG image of the cumulative product of the actual returns vs. the strategy returns for this updated trading algorithm, and write your conclusions in your `README.md` file. \n",
    "\n",
    "Answer the following questions: \n",
    "Did this new model perform better or worse than the provided baseline model? \n",
    "Did this new model perform better or worse than your tuned trading algorithm?"
   ]
  },
  {
   "cell_type": "code",
   "execution_count": null,
   "metadata": {},
   "outputs": [],
   "source": [
    "# Use a classification report to evaluate the model using the predictions and testing data\n",
    "tree_test_rep = classification_report(y_test, tree_pred)\n",
    "\n",
    "# Print the classification report\n",
    "print(tree_test_rep)"
   ]
  },
  {
   "cell_type": "code",
   "execution_count": null,
   "metadata": {},
   "outputs": [],
   "source": [
    "# Create a predictions DataFrame\n",
    "tree_pred_df = pd.DataFrame(index=X_test.index)\n",
    "\n",
    "# Add the tree model predictions to the DataFrame\n",
    "tree_pred_df['Predicted'] = tree_pred\n",
    "\n",
    "# Add the actual returns to the DataFrame\n",
    "tree_pred_df['Actual Returns'] = signals_df['Actual Returns']\n",
    "\n",
    "# Add the strategy returns to the DataFrame\n",
    "tree_pred_df['Strategy Returns'] = (tree_pred_df['Actual Returns'] * tree_pred_df['Predicted'])\n",
    "\n",
    "# Review the DataFrame\n",
    "tree_pred_df.head()"
   ]
  },
  {
   "cell_type": "code",
   "execution_count": null,
   "metadata": {},
   "outputs": [],
   "source": [
    "# Plot the actual returns versus the strategy returns\n",
    "(1 + tree_pred_df[['Actual Returns', 'Strategy Returns']]).cumprod().plot()\n",
    "plt.savefig('./img/tree_plot.png', bbox_inches='tight')"
   ]
  },
  {
   "cell_type": "code",
   "execution_count": null,
   "metadata": {},
   "outputs": [],
   "source": [
    "# Decided to run a Logistic Regression model for further comparison\n",
    "# Initiate the model instance\n",
    "log_model = LogisticRegression(random_state=1)  #solver='lbfgs', \n",
    "\n",
    "# Fit the model using the training data\n",
    "log_model = log_model.fit(X_train_scaled, y_train)\n",
    "\n",
    "# Use the test data to generate the predictions for the new model\n",
    "log_pred = log_model.predict(X_test_scaled)\n",
    "\n",
    "# Review the model's predicted values\n",
    "log_pred[:5]"
   ]
  },
  {
   "cell_type": "code",
   "execution_count": null,
   "metadata": {},
   "outputs": [],
   "source": [
    "# Display the accuracy score for the test dataset.\n",
    "accuracy_score(y_test, log_pred)"
   ]
  },
  {
   "cell_type": "code",
   "execution_count": null,
   "metadata": {},
   "outputs": [],
   "source": [
    "# Use a classification report to evaluate the model using the predictions and testing data\n",
    "log_test_rep = classification_report(y_test, log_pred)\n",
    "\n",
    "# Print the classification report\n",
    "print(log_test_rep)"
   ]
  },
  {
   "cell_type": "code",
   "execution_count": null,
   "metadata": {},
   "outputs": [],
   "source": [
    "# Use the trained model to predict the trading signals for the testing data.\n",
    "log_sig_pred = log_model.predict(X_test_scaled)\n",
    "\n",
    "# Create a predictions DataFrame\n",
    "log_pred_df = pd.DataFrame(index=X_test.index)\n",
    "\n",
    "# Add the tree model predictions to the DataFrame\n",
    "log_pred_df['Predicted'] = log_sig_pred\n",
    "\n",
    "# Add the actual returns to the DataFrame\n",
    "log_pred_df['Actual Returns'] = signals_df['Actual Returns']\n",
    "\n",
    "# Add the strategy returns to the DataFrame\n",
    "log_pred_df['Strategy Returns'] = (log_pred_df['Actual Returns'] * log_pred_df['Predicted'])\n",
    "\n",
    "# Review the DataFrame\n",
    "log_pred_df.head()"
   ]
  },
  {
   "cell_type": "code",
   "execution_count": null,
   "metadata": {},
   "outputs": [],
   "source": [
    "# Plot the actual returns versus the strategy returns\n",
    "(1 + log_pred_df[['Actual Returns', 'Strategy Returns']]).cumprod().plot()\n",
    "plt.savefig('./img/log_plot.png', bbox_inches='tight')"
   ]
  }
 ],
 "metadata": {
  "kernelspec": {
   "display_name": "Python 3",
   "language": "python",
   "name": "python3"
  },
  "language_info": {
   "codemirror_mode": {
    "name": "ipython",
    "version": 3
   },
   "file_extension": ".py",
   "mimetype": "text/x-python",
   "name": "python",
   "nbconvert_exporter": "python",
   "pygments_lexer": "ipython3",
   "version": "3.10.11"
  }
 },
 "nbformat": 4,
 "nbformat_minor": 4
}
